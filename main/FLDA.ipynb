{
 "cells": [
  {
   "cell_type": "code",
   "execution_count": 1,
   "metadata": {},
   "outputs": [],
   "source": [
    "# Dimension reduction using Fisher Linear Discriminant (FLD)\n",
    "# Importing libraries\n",
    "import numpy as np\n",
    "import matplotlib.pyplot as plt\n",
    "from mpl_toolkits.mplot3d import Axes3D"
   ]
  },
  {
   "cell_type": "code",
   "execution_count": 2,
   "metadata": {},
   "outputs": [],
   "source": [
    "# Creating the data\n",
    "Xd = np.array([[0,1,1,1],[1,1,1,1],[1,1,-0,1],[0,1,0,1],\n",
    "             [0,3,1,2],[0,3,0,2],[2,2,0,2],[2,0,0,2]])\n",
    "# Seperating the datapoints from their labels\n",
    "X = Xd[:,:3]\n",
    "y = Xd[:,3]"
   ]
  },
  {
   "cell_type": "code",
   "execution_count": 3,
   "metadata": {},
   "outputs": [
    {
     "name": "stdout",
     "output_type": "stream",
     "text": [
      "Mean Vector class 1: [0.5 1.  0.5]\n",
      "\n",
      "Mean Vector class 2: [1.   2.   0.25]\n",
      "\n"
     ]
    }
   ],
   "source": [
    "# Computing the d-dimensional mean vectors\n",
    "np.set_printoptions(precision=4)\n",
    "\n",
    "mean_vectors = []\n",
    "for cl in range(1,3):\n",
    "    mean_vectors.append(np.mean(X[y==cl], axis=0))\n",
    "    print('Mean Vector class %s: %s\\n' %(cl, mean_vectors[cl-1]))"
   ]
  },
  {
   "cell_type": "code",
   "execution_count": 4,
   "metadata": {},
   "outputs": [
    {
     "name": "stdout",
     "output_type": "stream",
     "text": [
      "within-class Scatter Matrix:\n",
      " [[ 5.   -4.   -1.  ]\n",
      " [-4.    6.    1.  ]\n",
      " [-1.    1.    1.75]]\n"
     ]
    }
   ],
   "source": [
    "# Computing the Scatter Matrices\n",
    "# The within-class scatter matrix S_W\n",
    "S_W = np.zeros((3,3))\n",
    "for cl,mv in zip(range(1,4), mean_vectors):\n",
    "    class_sc_mat = np.zeros((3,3))                  # scatter matrix for every class\n",
    "    for row in X[y==cl]:\n",
    "        row, mv = row.reshape(3,1), mv.reshape(3,1) # make column vectors\n",
    "        class_sc_mat += (row-mv).dot((row-mv).T)\n",
    "    S_W += class_sc_mat                             # sum class scatter matrices\n",
    "print('within-class Scatter Matrix:\\n', S_W)\n",
    "# Alternatively, we could also go through computing the class-covariance matrices S_W"
   ]
  },
  {
   "cell_type": "code",
   "execution_count": 5,
   "metadata": {},
   "outputs": [
    {
     "name": "stdout",
     "output_type": "stream",
     "text": [
      "between-class Scatter Matrix:\n",
      " [[ 0.5    1.    -0.25 ]\n",
      " [ 1.     2.    -0.5  ]\n",
      " [-0.25  -0.5    0.125]]\n"
     ]
    }
   ],
   "source": [
    "# Between-class scatter matrix S_B\n",
    "overall_mean = np.mean(X, axis=0)\n",
    "\n",
    "S_B = np.zeros((3,3))\n",
    "for i,mean_vec in enumerate(mean_vectors):  \n",
    "    n = X[y==i+1,:].shape[0]\n",
    "    mean_vec = mean_vec.reshape(3,1) # make column vector\n",
    "    overall_mean = overall_mean.reshape(3,1) # make column vector\n",
    "    S_B += n * (mean_vec - overall_mean).dot((mean_vec - overall_mean).T)\n",
    "\n",
    "print('between-class Scatter Matrix:\\n', S_B)"
   ]
  },
  {
   "cell_type": "code",
   "execution_count": 6,
   "metadata": {},
   "outputs": [
    {
     "name": "stdout",
     "output_type": "stream",
     "text": [
      "\n",
      "Eigenvector 1: \n",
      "[[ 0.664 ]\n",
      " [ 0.7126]\n",
      " [-0.2267]]\n",
      "Eigenvalue 1: 1.58e+00\n",
      "\n",
      "Eigenvector 2: \n",
      "[[0.1224]\n",
      " [0.1827]\n",
      " [0.9755]]\n",
      "Eigenvalue 2: -8.68e-19\n",
      "\n",
      "Eigenvector 3: \n",
      "[[-0.8902]\n",
      " [ 0.4542]\n",
      " [ 0.0363]]\n",
      "Eigenvalue 3: -1.10e-16\n"
     ]
    }
   ],
   "source": [
    "# Solving the generalized eigenvalue problem for the matrix inv(S_W)S_B\n",
    "eig_vals, eig_vecs = np.linalg.eig(np.linalg.inv(S_W).dot(S_B))\n",
    "\n",
    "for i in range(len(eig_vals)):\n",
    "    eigvec_sc = eig_vecs[:,i].reshape(3,1)   \n",
    "    print('\\nEigenvector {}: \\n{}'.format(i+1, eigvec_sc.real))\n",
    "    print('Eigenvalue {:}: {:.2e}'.format(i+1, eig_vals[i].real))"
   ]
  },
  {
   "cell_type": "code",
   "execution_count": 7,
   "metadata": {},
   "outputs": [
    {
     "name": "stdout",
     "output_type": "stream",
     "text": [
      "Eigenvalues in decreasing order:\n",
      "\n",
      "1.5813953488372083\n",
      "1.0997943999487304e-16\n",
      "8.68321831174687e-19\n"
     ]
    }
   ],
   "source": [
    "# Make a list of (eigenvalue, eigenvector) tuples\n",
    "eig_pairs = [(np.abs(eig_vals[i]), eig_vecs[:,i]) for i in range(len(eig_vals))]\n",
    "\n",
    "# Sort the (eigenvalue, eigenvector) tuples from high to low\n",
    "eig_pairs = sorted(eig_pairs, key=lambda k: k[0], reverse=True)\n",
    "\n",
    "# Visually confirm that the list is correctly sorted by decreasing eigenvalues\n",
    "\n",
    "print('Eigenvalues in decreasing order:\\n')\n",
    "for i in eig_pairs:\n",
    "    print(i[0])"
   ]
  },
  {
   "cell_type": "code",
   "execution_count": 8,
   "metadata": {},
   "outputs": [
    {
     "data": {
      "image/png": "[encoded data removed]",
      "text/plain": [
       "<Figure size 432x288 with 1 Axes>"
      ]
     },
     "metadata": {
      "needs_background": "light"
     },
     "output_type": "display_data"
    }
   ],
   "source": [
    "# Calculating the explained variance from the calculated eigenvalues to show how much information (variance)\n",
    "# can be attributed to each of the principal components\n",
    "tot = sum(eig_vals)\n",
    "var_exp = [(i / tot)*100 for i in sorted(eig_vals, reverse=True)]\n",
    "cum_var_exp = np.cumsum(var_exp)\n",
    "x =  np.arange(3)\n",
    "\n",
    "fig, ax = plt.subplots()\n",
    "plt.bar(x, var_exp)\n",
    "plt.plot(x, cum_var_exp)\n",
    "plt.show()"
   ]
  },
  {
   "cell_type": "code",
   "execution_count": 9,
   "metadata": {},
   "outputs": [
    {
     "name": "stdout",
     "output_type": "stream",
     "text": [
      "Variance explained:\n",
      "\n",
      "eigenvalue 1: 100.00%\n",
      "eigenvalue 2: 0.00%\n",
      "eigenvalue 3: 0.00%\n"
     ]
    }
   ],
   "source": [
    "# Expressing the “explained variance” as percentage\n",
    "print('Variance explained:\\n')\n",
    "eigv_sum = sum(eig_vals)\n",
    "for i,j in enumerate(eig_pairs):\n",
    "    print('eigenvalue {0:}: {1:.2%}'.format(i+1, (j[0]/eigv_sum).real))"
   ]
  },
  {
   "cell_type": "code",
   "execution_count": 10,
   "metadata": {},
   "outputs": [
    {
     "name": "stdout",
     "output_type": "stream",
     "text": [
      "Matrix W:\n",
      " [[ 0.664  -0.8902]\n",
      " [ 0.7126  0.4542]\n",
      " [-0.2267  0.0363]]\n"
     ]
    }
   ],
   "source": [
    "# Selecting linear discriminants for the new feature subspace\n",
    "# Choosing 2 eigenvectors with the largest eigenvalues to project the data on 2D\n",
    "matrix_w2d = np.hstack((eig_pairs[0][1].reshape(3,1), eig_pairs[1][1].reshape(3,1)))\n",
    "print('Matrix W:\\n', matrix_w2d.real)"
   ]
  },
  {
   "cell_type": "code",
   "execution_count": 11,
   "metadata": {},
   "outputs": [
    {
     "name": "stdout",
     "output_type": "stream",
     "text": [
      "Matrix W:\n",
      " [[ 0.664 ]\n",
      " [ 0.7126]\n",
      " [-0.2267]]\n"
     ]
    }
   ],
   "source": [
    "# Choosing 2 eigenvectors with the largest eigenvalues to project the data on 1D\n",
    "matrix_w1d = eig_pairs[0][1].reshape(3,1)\n",
    "print('Matrix W:\\n', matrix_w1d.real)"
   ]
  },
  {
   "cell_type": "code",
   "execution_count": 12,
   "metadata": {},
   "outputs": [],
   "source": [
    "# Projection on 2D feature space\n",
    "X2d = ((matrix_w2d).T.dot(X.T)).T\n",
    "# Projection on 1D feature space\n",
    "X1d = ((matrix_w1d).T.dot(X.T)).T"
   ]
  },
  {
   "cell_type": "code",
   "execution_count": 13,
   "metadata": {},
   "outputs": [
    {
     "name": "stdout",
     "output_type": "stream",
     "text": [
      "[[ 0.4858  0.4905]\n",
      " [ 1.1498 -0.3997]\n",
      " [ 1.3765 -0.436 ]\n",
      " [ 0.7126  0.4542]\n",
      " [ 1.9109  1.3988]\n",
      " [ 2.1377  1.3625]\n",
      " [ 2.7531 -0.872 ]\n",
      " [ 1.3279 -1.7804]]\n",
      "[[0.4858]\n",
      " [1.1498]\n",
      " [1.3765]\n",
      " [0.7126]\n",
      " [1.9109]\n",
      " [2.1377]\n",
      " [2.7531]\n",
      " [1.3279]]\n"
     ]
    }
   ],
   "source": [
    "print (X2d)\n",
    "print (X1d)"
   ]
  },
  {
   "cell_type": "code",
   "execution_count": 14,
   "metadata": {},
   "outputs": [
    {
     "data": {
      "image/png": "[encoded data removed]",
      "text/plain": [
       "<Figure size 432x288 with 1 Axes>"
      ]
     },
     "metadata": {
      "needs_background": "light"
     },
     "output_type": "display_data"
    }
   ],
   "source": [
    "# Visualizing the initial data in 3D space\n",
    "fig = plt.figure()\n",
    "ax = Axes3D(fig)\n",
    "ax.scatter (X[y==1,0],X[y==1,1],X[y==1,2])\n",
    "ax.scatter (X[y==2,0],X[y==2,1],X[y==2,2])\n",
    "plt.show()"
   ]
  },
  {
   "cell_type": "code",
   "execution_count": 15,
   "metadata": {},
   "outputs": [
    {
     "data": {
      "image/png": "[encoded data removed]",
      "text/plain": [
       "<Figure size 432x288 with 1 Axes>"
      ]
     },
     "metadata": {
      "needs_background": "light"
     },
     "output_type": "display_data"
    }
   ],
   "source": [
    "# Visualizing the projected data on 2D space\n",
    "fig = plt.figure()\n",
    "plt.scatter (X2d[y==1,0],X2d[y==1,1])\n",
    "plt.scatter (X2d[y==2,0],X2d[y==2,1])\n",
    "plt.show()"
   ]
  },
  {
   "cell_type": "code",
   "execution_count": 16,
   "metadata": {},
   "outputs": [
    {
     "data": {
      "image/png": "[encoded data removed]",
      "text/plain": [
       "<Figure size 432x288 with 1 Axes>"
      ]
     },
     "metadata": {
      "needs_background": "light"
     },
     "output_type": "display_data"
    }
   ],
   "source": [
    "# Visualizing the projected data on 1D space\n",
    "y1 = np.zeros(10)\n",
    "fig = plt.figure()\n",
    "plt.scatter (X1d[y==1,0],y1[0:4])\n",
    "plt.scatter (X1d[y==2,0],y1[0:4])\n",
    "plt.show()"
   ]
  }
 ],
 "metadata": {
  "kernelspec": {
   "display_name": "Python 3",
   "language": "python",
   "name": "python3"
  },
  "language_info": {
   "codemirror_mode": {
    "name": "ipython",
    "version": 3
   },
   "file_extension": ".py",
   "mimetype": "text/x-python",
   "name": "python",
   "nbconvert_exporter": "python",
   "pygments_lexer": "ipython3",
   "version": "3.7.4"
  }
 },
 "nbformat": 4,
 "nbformat_minor": 2
}
